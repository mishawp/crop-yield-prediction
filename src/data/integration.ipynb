{
 "cells": [
  {
   "cell_type": "markdown",
   "id": "a1b84bca",
   "metadata": {},
   "source": [
    "# Интеграция данных\n",
    "***"
   ]
  },
  {
   "cell_type": "markdown",
   "id": "cbb6ccae",
   "metadata": {},
   "source": [
    "## Имеющиеся данные\n",
    "\n",
    "- [спутниковые снимки Sentinel](../../notebooks/1.1-data-review-sentinel.ipynb);\n",
    "- [климатические данные](../../notebooks/1.3-data-review-wrf-hrrr.ipynb);\n",
    "- [данные о влажности почвы](../../notebooks/1.4-data-review-moisture.ipynb);\n",
    "- [исторические данные об урожайности](../../notebooks/1.2-data-review-usda.ipynb).\n",
    "\n",
    "Необходимо их объединить в единое целое.\n",
    "***"
   ]
  },
  {
   "cell_type": "markdown",
   "id": "707f183f",
   "metadata": {},
   "source": [
    "## Ограничение накладываемые данными\n",
    "\n",
    "- **Sentinel:** Снимки одной локации предоставлены за 1 и 15 числа каждого месяца.\n",
    "\n",
    "- **USDA:** Данные об урожайности предоставлены для округов (counties).\n",
    "\n",
    "Единый датасет должен быть структурирован так, чтобы соответствовать ограничениям.\n",
    "***"
   ]
  },
  {
   "cell_type": "markdown",
   "id": "70ce4b86",
   "metadata": {},
   "source": [
    "## Структура будущего датасета\n",
    "\n",
    "```plaintext\n",
    "interim\n",
    "    |\n",
    "    ├── data.csv                                            <- Табличные данные\n",
    "    |\n",
    "    |\n",
    "    ├── <fips>-<year>-<month>-<day>                         <- Набор снимков для одного округа и даты\n",
    "    |   |\n",
    "    |   ├── 1.npy\n",
    "    |   |\n",
    "    |   ├── 2.npy\n",
    "    |   |\n",
    "    |   └── ...\n",
    "    |\n",
    "    └── ...                                                 <- Остальные наборы наборы снимков\n",
    "```\n",
    "***"
   ]
  },
  {
   "cell_type": "markdown",
   "id": "fb186047",
   "metadata": {},
   "source": [
    "## Интеграция данных\n",
    "\n",
    "- Возьмем данные за *1 и 15 дни каждого месяца для каждого округа* и объединим их в одну таблицу.\n",
    "- Удалим метаданные из таблиц.\n",
    "- Усредним данные для каждого округа (fips).\n",
    "- Удалим данные, для которых нет значения для целевой переменной (`YIELD, MEASURED IN BU / ACRE`) (для тех, которых нет данных в `USDA`).\n",
    "- Добавим столбец `images` - путь к набору снимков.\n",
    "- Удалим данные, для которых нет снимков.\n",
    "- Разделим признаки и таргет. `PRODUCTION, MEASURED IN BU` можно удалить.\n",
    "- Добавим столбец `target_year`, который ставит в соответствие объект и таргет. В частности, для периода месяцев *ноябрь-декабрь* `target_year = year + 1`, т.к. сбор урожая кукурузы происходит в *сентябре-октябре*."
   ]
  },
  {
   "cell_type": "code",
   "execution_count": 1,
   "id": "dcfa8b51",
   "metadata": {},
   "outputs": [],
   "source": [
    "import os\n",
    "import gc\n",
    "import h5py\n",
    "import numpy as np\n",
    "import pandas as pd\n",
    "from pathlib import Path\n",
    "\n",
    "PATH_DATA = Path(\"../../data/raw\")\n",
    "PATH_PROCESSED = Path(\"../../data/interim\")\n",
    "PATH_SENTINEL = PATH_DATA / \"Sentinel\"\n",
    "PATH_HRRR = PATH_DATA / \"WRF-HRRR\"\n",
    "PATH_ERA5 = PATH_DATA / \"ERA5-Land-Moisture\"\n",
    "PATH_USDA = PATH_DATA / \"USDA\""
   ]
  },
  {
   "cell_type": "code",
   "execution_count": 2,
   "id": "a9c4e6e7",
   "metadata": {},
   "outputs": [],
   "source": [
    "def get_all_files(path: Path) -> list[Path]:\n",
    "    \"\"\"Возвращает все пути к файлам данных из подкаталогов\n",
    "\n",
    "    Args:\n",
    "        path (Path): путь к каталогу данных\n",
    "\n",
    "    Returns:\n",
    "        list[Path]: список путей к файлам\n",
    "    \"\"\"\n",
    "    return [\n",
    "        file\n",
    "        for dir_ in path.iterdir()\n",
    "        for subdir in dir_.iterdir()\n",
    "        for file in subdir.iterdir()\n",
    "    ]"
   ]
  },
  {
   "cell_type": "code",
   "execution_count": 3,
   "id": "bbe235eb",
   "metadata": {},
   "outputs": [],
   "source": [
    "files_sentinel = get_all_files(PATH_SENTINEL)\n",
    "files_hrrr = get_all_files(PATH_HRRR)\n",
    "files_era5 = get_all_files(PATH_ERA5)\n",
    "files_usda = get_all_files(PATH_USDA)"
   ]
  },
  {
   "cell_type": "code",
   "execution_count": 4,
   "id": "8a0d42fc",
   "metadata": {},
   "outputs": [],
   "source": [
    "def read_csv_files(files: list[Path]) -> pd.DataFrame:\n",
    "    \"\"\"Читает файлы .csv одной структуры из списка файлов files\n",
    "    и возвращает их как pd.DataFrame\n",
    "\n",
    "    Args:\n",
    "        files (list[Path]): список файлов\n",
    "\n",
    "    Returns:\n",
    "        pd.DataFrame: DataFrame\n",
    "    \"\"\"\n",
    "    return pd.concat(\n",
    "        [pd.read_csv(file) for file in files], axis=0, ignore_index=True\n",
    "    )"
   ]
  },
  {
   "cell_type": "code",
   "execution_count": 5,
   "id": "4012cebe",
   "metadata": {},
   "outputs": [],
   "source": [
    "df_hrrr = read_csv_files(files_hrrr)\n",
    "df_era5 = read_csv_files(files_era5)\n",
    "df_usda = read_csv_files(files_usda)"
   ]
  },
  {
   "cell_type": "code",
   "execution_count": 6,
   "id": "089a3e89",
   "metadata": {},
   "outputs": [
    {
     "name": "stdout",
     "output_type": "stream",
     "text": [
      "df_hrrr columns:\n",
      "['Year', 'Month', 'Day', 'Daily/Monthly', 'State', 'County', 'FIPS Code', 'Grid Index', 'Lat (llcrnr)', 'Lon (llcrnr)', 'Lat (urcrnr)', 'Lon (urcrnr)', 'Avg Temperature (K)', 'Max Temperature (K)', 'Min Temperature (K)', 'Precipitation (kg m**-2)', 'Relative Humidity (%)', 'Wind Gust (m s**-1)', 'Wind Speed (m s**-1)', 'U Component of Wind (m s**-1)', 'V Component of Wind (m s**-1)', 'Downward Shortwave Radiation Flux (W m**-2)', 'Vapor Pressure Deficit (kPa)']\n",
      "\n",
      "df_era5 columns:\n",
      "['year', 'month', 'day', 'hour', 'fips', 'state', 'latitude', 'longitude', 'src', 'swvl1', 'swvl2', 'swvl3']\n",
      "\n",
      "df_usda columns:\n",
      "['commodity_desc', 'reference_period_desc', 'year', 'state_ansi', 'state_name', 'county_ansi', 'county_name', 'asd_code', 'asd_desc', 'domain_desc', 'source_desc', 'agg_level_desc', 'PRODUCTION, MEASURED IN BU', 'YIELD, MEASURED IN BU / ACRE']\n",
      "\n"
     ]
    }
   ],
   "source": [
    "print(f\"df_hrrr columns:\\n{df_hrrr.columns.to_list()}\\n\")\n",
    "print(f\"df_era5 columns:\\n{df_era5.columns.to_list()}\\n\")\n",
    "print(f\"df_usda columns:\\n{df_usda.columns.to_list()}\\n\")"
   ]
  },
  {
   "cell_type": "code",
   "execution_count": 7,
   "id": "80a8643f",
   "metadata": {},
   "outputs": [],
   "source": [
    "def get_fips(df_usda: pd.DataFrame) -> pd.Series:\n",
    "    \"\"\"Получает fips используя поля state_ansi и county_ansi\n",
    "\n",
    "    Args:\n",
    "        df_usda (pd.DataFrame): USDA dataset\n",
    "\n",
    "    Returns:\n",
    "        pd.Series: fips codes\n",
    "    \"\"\"\n",
    "    states_fips = df_usda[\"state_ansi\"].astype(str).str.zfill(2)\n",
    "    counties_fips = df_usda[\"county_ansi\"].astype(str).str.zfill(3)\n",
    "    fips = states_fips + counties_fips\n",
    "    return fips"
   ]
  },
  {
   "cell_type": "code",
   "execution_count": 8,
   "id": "5afb36dd",
   "metadata": {},
   "outputs": [],
   "source": [
    "df_usda[\"fips\"] = get_fips(df_usda).astype(np.int64)  #"
   ]
  },
  {
   "cell_type": "code",
   "execution_count": 9,
   "id": "f3b7d040",
   "metadata": {},
   "outputs": [],
   "source": [
    "df_hrrr.rename(\n",
    "    {\"Year\": \"year\", \"Month\": \"month\", \"Day\": \"day\", \"FIPS Code\": \"fips\"},\n",
    "    axis=1,\n",
    "    inplace=True,\n",
    ")\n"
   ]
  },
  {
   "cell_type": "code",
   "execution_count": 10,
   "id": "df2b33f6",
   "metadata": {},
   "outputs": [],
   "source": [
    "df_hrrr.query(\"(day == 1) | (day == 15)\", inplace=True)\n",
    "df_era5.query(\"(day == 1) | (day == 15)\", inplace=True)\n",
    "df_usda.query(\n",
    "    \"(state_name == 'ILLINOIS') | (state_name == 'IOWA')\", inplace=True\n",
    ")"
   ]
  },
  {
   "cell_type": "code",
   "execution_count": 11,
   "id": "d4f1e93e",
   "metadata": {},
   "outputs": [],
   "source": [
    "# see ../../notebooks/1.3-data-review-wrf-hrrr.ipynb\n",
    "df_hrrr.dropna(axis=0, inplace=True)\n",
    "df_hrrr.drop(\n",
    "    [\n",
    "        \"State\",\n",
    "        \"County\",\n",
    "        \"Grid Index\",\n",
    "    ],\n",
    "    axis=1,\n",
    "    inplace=True,\n",
    ")"
   ]
  },
  {
   "cell_type": "code",
   "execution_count": 12,
   "id": "54f504de",
   "metadata": {},
   "outputs": [],
   "source": [
    "agg_dict = {\n",
    "    column: \"mean\"\n",
    "    for column in [\n",
    "        \"Lat (llcrnr)\",\n",
    "        \"Lon (llcrnr)\",\n",
    "        \"Lat (urcrnr)\",\n",
    "        \"Lon (urcrnr)\",\n",
    "        \"Avg Temperature (K)\",\n",
    "        \"Max Temperature (K)\",\n",
    "        \"Min Temperature (K)\",\n",
    "        \"Precipitation (kg m**-2)\",\n",
    "        \"Relative Humidity (%)\",\n",
    "        \"Wind Gust (m s**-1)\",\n",
    "        \"Wind Speed (m s**-1)\",\n",
    "        \"U Component of Wind (m s**-1)\",\n",
    "        \"V Component of Wind (m s**-1)\",\n",
    "        \"Downward Shortwave Radiation Flux (W m**-2)\",\n",
    "        \"Vapor Pressure Deficit (kPa)\",\n",
    "    ]\n",
    "}\n",
    "agg_dict[\"Lat (llcrnr)\"] = \"min\"\n",
    "agg_dict[\"Lon (llcrnr)\"] = \"min\"\n",
    "agg_dict[\"Lat (urcrnr)\"] = \"max\"\n",
    "agg_dict[\"Lon (urcrnr)\"] = \"max\"\n",
    "df_hrrr = (\n",
    "    df_hrrr.groupby([\"fips\", \"year\", \"month\", \"day\"])\n",
    "    .agg(agg_dict)\n",
    "    .reset_index()\n",
    ")"
   ]
  },
  {
   "cell_type": "code",
   "execution_count": 13,
   "id": "9f455fba",
   "metadata": {},
   "outputs": [],
   "source": [
    "df_era5.drop([\"hour\", \"state\", \"latitude\", \"longitude\"], axis=1, inplace=True)\n",
    "df_era5 = (\n",
    "    df_era5.groupby([\"fips\", \"year\", \"month\", \"day\"]).mean().reset_index()\n",
    ")"
   ]
  },
  {
   "cell_type": "code",
   "execution_count": 14,
   "id": "1b660504",
   "metadata": {},
   "outputs": [],
   "source": [
    "df_usda = df_usda[df_usda[\"commodity_desc\"] == \"CORN\"]\n",
    "df_usda.drop(\n",
    "    [\n",
    "        \"commodity_desc\",\n",
    "        \"reference_period_desc\",\n",
    "        \"state_ansi\",\n",
    "        \"state_name\",\n",
    "        \"county_ansi\",\n",
    "        \"county_name\",\n",
    "        \"asd_code\",\n",
    "        \"asd_desc\",\n",
    "        \"domain_desc\",\n",
    "        \"source_desc\",\n",
    "        \"agg_level_desc\",\n",
    "    ],\n",
    "    axis=1,\n",
    "    inplace=True,\n",
    ")"
   ]
  },
  {
   "cell_type": "code",
   "execution_count": 15,
   "id": "98d62124",
   "metadata": {},
   "outputs": [],
   "source": [
    "data = pd.merge(df_usda, df_hrrr, how=\"left\", on=[\"year\", \"fips\"])\n",
    "del df_usda, df_hrrr\n",
    "gc.collect()\n",
    "\n",
    "data = pd.merge(data, df_era5, how=\"left\", on=[\"year\", \"month\", \"day\", \"fips\"])\n",
    "del df_era5\n",
    "gc.collect();"
   ]
  },
  {
   "cell_type": "code",
   "execution_count": 16,
   "id": "e1818d44",
   "metadata": {},
   "outputs": [
    {
     "data": {
      "text/plain": [
       "(26016, 25)"
      ]
     },
     "metadata": {},
     "output_type": "display_data"
    },
    {
     "data": {
      "text/plain": [
       "Index(['year', 'PRODUCTION, MEASURED IN BU', 'YIELD, MEASURED IN BU / ACRE',\n",
       "       'fips', 'month', 'day', 'Lat (llcrnr)', 'Lon (llcrnr)', 'Lat (urcrnr)',\n",
       "       'Lon (urcrnr)', 'Avg Temperature (K)', 'Max Temperature (K)',\n",
       "       'Min Temperature (K)', 'Precipitation (kg m**-2)',\n",
       "       'Relative Humidity (%)', 'Wind Gust (m s**-1)', 'Wind Speed (m s**-1)',\n",
       "       'U Component of Wind (m s**-1)', 'V Component of Wind (m s**-1)',\n",
       "       'Downward Shortwave Radiation Flux (W m**-2)',\n",
       "       'Vapor Pressure Deficit (kPa)', 'src', 'swvl1', 'swvl2', 'swvl3'],\n",
       "      dtype='object')"
      ]
     },
     "metadata": {},
     "output_type": "display_data"
    }
   ],
   "source": [
    "display(data.shape)\n",
    "display(data.columns)"
   ]
  },
  {
   "cell_type": "code",
   "execution_count": 17,
   "id": "432140ee",
   "metadata": {},
   "outputs": [],
   "source": [
    "# Новые имена столбцов\n",
    "new_columns = {\n",
    "    \"year\": \"year\",\n",
    "    \"month\": \"month\",\n",
    "    \"day\": \"day\",\n",
    "    \"fips\": \"fips\",\n",
    "    \"Lat (llcrnr)\": \"lat_lower_left\",\n",
    "    \"Lon (llcrnr)\": \"lon_lower_left\",\n",
    "    \"Lat (urcrnr)\": \"lat_upper_right\",\n",
    "    \"Lon (urcrnr)\": \"lon_upper_right\",\n",
    "    \"Avg Temperature (K)\": \"temperature_avg\",\n",
    "    \"Max Temperature (K)\": \"temperature_max\",\n",
    "    \"Min Temperature (K)\": \"temperature_min\",\n",
    "    \"Precipitation (kg m**-2)\": \"precipitation\",\n",
    "    \"Relative Humidity (%)\": \"humidity_relative\",\n",
    "    \"Wind Gust (m s**-1)\": \"wind_gust\",\n",
    "    \"Wind Speed (m s**-1)\": \"wind_speed\",\n",
    "    \"U Component of Wind (m s**-1)\": \"wind_u_component\",\n",
    "    \"V Component of Wind (m s**-1)\": \"wind_v_component\",\n",
    "    \"Downward Shortwave Radiation Flux (W m**-2)\": \"solar_radiation_downward\",\n",
    "    \"Vapor Pressure Deficit (kPa)\": \"vapor_pressure_deficit\",\n",
    "    \"src\": \"skin_reservoir_content\",\n",
    "    \"swvl1\": \"soil_water_vol_layer1\",\n",
    "    \"swvl2\": \"soil_water_vol_layer2\",\n",
    "    \"swvl3\": \"soil_water_vol_layer3\",\n",
    "    \"YIELD, MEASURED IN BU / ACRE\": \"yield_bu_per_acre\",\n",
    "    \"PRODUCTION, MEASURED IN BU\": \"production_bu\",\n",
    "}\n",
    "\n",
    "data = data[new_columns.keys()]\n",
    "data.rename(new_columns, inplace=True, axis=1)"
   ]
  },
  {
   "cell_type": "code",
   "execution_count": 18,
   "id": "0c232b3f",
   "metadata": {},
   "outputs": [],
   "source": [
    "for to_int in [\"year\", \"month\", \"day\", \"fips\"]:\n",
    "    data[to_int] = data[to_int].astype(np.int32)"
   ]
  },
  {
   "cell_type": "code",
   "execution_count": 19,
   "id": "df4fa90a",
   "metadata": {},
   "outputs": [
    {
     "data": {
      "text/plain": [
       "year                          int32\n",
       "month                         int32\n",
       "day                           int32\n",
       "fips                          int32\n",
       "lat_lower_left              float64\n",
       "lon_lower_left              float64\n",
       "lat_upper_right             float64\n",
       "lon_upper_right             float64\n",
       "temperature_avg             float64\n",
       "temperature_max             float64\n",
       "temperature_min             float64\n",
       "precipitation               float64\n",
       "humidity_relative           float64\n",
       "wind_gust                   float64\n",
       "wind_speed                  float64\n",
       "wind_u_component            float64\n",
       "wind_v_component            float64\n",
       "solar_radiation_downward    float64\n",
       "vapor_pressure_deficit      float64\n",
       "skin_reservoir_content      float64\n",
       "soil_water_vol_layer1       float64\n",
       "soil_water_vol_layer2       float64\n",
       "soil_water_vol_layer3       float64\n",
       "yield_bu_per_acre           float64\n",
       "production_bu               float64\n",
       "dtype: object"
      ]
     },
     "execution_count": 19,
     "metadata": {},
     "output_type": "execute_result"
    }
   ],
   "source": [
    "data.dtypes"
   ]
  },
  {
   "cell_type": "code",
   "execution_count": 20,
   "id": "5106059c",
   "metadata": {},
   "outputs": [],
   "source": [
    "data[\"images\"] = (\n",
    "    data[\"fips\"].astype(str)\n",
    "    + \"-\"\n",
    "    + data[\"year\"].astype(str)\n",
    "    + \"-\"\n",
    "    + data[\"month\"].astype(str).str.zfill(2)\n",
    "    + \"-\"\n",
    "    + data[\"day\"].astype(str).str.zfill(2)\n",
    ")"
   ]
  },
  {
   "cell_type": "code",
   "execution_count": 21,
   "id": "b679f718",
   "metadata": {},
   "outputs": [
    {
     "data": {
      "text/plain": [
       "0        17001-2020-01-01\n",
       "1        17001-2020-01-15\n",
       "2        17001-2020-02-01\n",
       "3        17001-2020-02-15\n",
       "4        17001-2020-03-01\n",
       "               ...       \n",
       "26011    19197-2019-10-15\n",
       "26012    19197-2019-11-01\n",
       "26013    19197-2019-11-15\n",
       "26014    19197-2019-12-01\n",
       "26015    19197-2019-12-15\n",
       "Name: images, Length: 26016, dtype: object"
      ]
     },
     "execution_count": 21,
     "metadata": {},
     "output_type": "execute_result"
    }
   ],
   "source": [
    "data[\"images\"]"
   ]
  },
  {
   "cell_type": "markdown",
   "id": "5f8bb977",
   "metadata": {},
   "source": [
    "Копируем изображения. Если для набора изображений нет данных в таблице `data`, то не копируем"
   ]
  },
  {
   "cell_type": "code",
   "execution_count": 22,
   "id": "86a5f152",
   "metadata": {},
   "outputs": [],
   "source": [
    "if not PATH_PROCESSED.exists():\n",
    "    os.mkdir(PATH_PROCESSED)\n",
    "for file in files_sentinel:\n",
    "    with h5py.File(file, \"r\") as h5:\n",
    "        for fips, attrs0 in h5.items():\n",
    "            for date, attrs1 in attrs0.items():\n",
    "                dir_name = f\"{fips}-{date}\"\n",
    "                if dir_name not in data[\"images\"].values:\n",
    "                    continue\n",
    "\n",
    "                new_dir = PATH_PROCESSED / dir_name\n",
    "                if new_dir.exists():\n",
    "                    continue\n",
    "\n",
    "                os.mkdir(new_dir)\n",
    "                for i, image in enumerate(attrs1[\"data\"][:]):\n",
    "                    np.save(new_dir / f\"{i}.npy\", image)"
   ]
  },
  {
   "cell_type": "markdown",
   "id": "e01823b6",
   "metadata": {},
   "source": [
    "Удаляем те объекты из `data`, для которых нет снимков"
   ]
  },
  {
   "cell_type": "code",
   "execution_count": 23,
   "id": "48090c5b",
   "metadata": {},
   "outputs": [],
   "source": [
    "images = pd.Series(\n",
    "    [str(path.name) for path in PATH_PROCESSED.iterdir() if not path.is_file()]\n",
    ")"
   ]
  },
  {
   "cell_type": "code",
   "execution_count": 24,
   "id": "9fe66b4e",
   "metadata": {},
   "outputs": [],
   "source": [
    "data = data[data[\"images\"].isin(images)]"
   ]
  },
  {
   "cell_type": "markdown",
   "id": "e7cb14d8",
   "metadata": {},
   "source": [
    "Добавим столбец `target_year`"
   ]
  },
  {
   "cell_type": "code",
   "execution_count": 25,
   "id": "16048cf3",
   "metadata": {},
   "outputs": [],
   "source": [
    "data[\"target_year\"] = np.where(\n",
    "    data[\"month\"] >= 11, data[\"year\"] + 1, data[\"year\"]\n",
    ")"
   ]
  },
  {
   "cell_type": "markdown",
   "id": "e9197f01",
   "metadata": {},
   "source": [
    "На всякий отсортируем и потом разделим признаки и таргет"
   ]
  },
  {
   "cell_type": "code",
   "execution_count": 26,
   "id": "fc7b7a01",
   "metadata": {},
   "outputs": [],
   "source": [
    "data.sort_values(by=[\"year\", \"month\", \"day\", \"fips\"], inplace=True)"
   ]
  },
  {
   "cell_type": "code",
   "execution_count": 27,
   "id": "807a23c2",
   "metadata": {},
   "outputs": [],
   "source": [
    "X = data.drop([\"production_bu\", \"yield_bu_per_acre\"], axis=1)\n",
    "y = data[[\"year\", \"fips\", \"yield_bu_per_acre\"]].drop_duplicates()"
   ]
  },
  {
   "cell_type": "markdown",
   "id": "d06d5871",
   "metadata": {},
   "source": [
    "Сохраняем"
   ]
  },
  {
   "cell_type": "code",
   "execution_count": 28,
   "id": "764a0d01",
   "metadata": {},
   "outputs": [],
   "source": [
    "X.to_csv(PATH_PROCESSED / \"X.csv\", index=False)\n",
    "y.to_csv(PATH_PROCESSED / \"y.csv\", index=False)"
   ]
  },
  {
   "cell_type": "code",
   "execution_count": 31,
   "id": "eb9cf9d5",
   "metadata": {},
   "outputs": [
    {
     "data": {
      "text/plain": [
       "(23851, 25)"
      ]
     },
     "metadata": {},
     "output_type": "display_data"
    },
    {
     "data": {
      "text/plain": [
       "(995, 3)"
      ]
     },
     "metadata": {},
     "output_type": "display_data"
    }
   ],
   "source": [
    "display(X.shape)\n",
    "display(y.shape)"
   ]
  }
 ],
 "metadata": {
  "kernelspec": {
   "display_name": ".venv",
   "language": "python",
   "name": "python3"
  },
  "language_info": {
   "codemirror_mode": {
    "name": "ipython",
    "version": 3
   },
   "file_extension": ".py",
   "mimetype": "text/x-python",
   "name": "python",
   "nbconvert_exporter": "python",
   "pygments_lexer": "ipython3",
   "version": "3.12.9"
  }
 },
 "nbformat": 4,
 "nbformat_minor": 5
}
